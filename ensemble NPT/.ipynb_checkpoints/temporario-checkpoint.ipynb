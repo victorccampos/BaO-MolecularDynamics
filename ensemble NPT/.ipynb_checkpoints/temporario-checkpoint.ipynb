{
 "cells": [
  {
   "cell_type": "markdown",
   "id": "6357bfe8-03f4-4ca8-b4ec-ea6ecacf6148",
   "metadata": {},
   "source": [
    "Atividade : simular em temperaturas de 100 á 2500 em passos de 200K no ensemble isotérmico e isobárico"
   ]
  },
  {
   "cell_type": "markdown",
   "id": "f13f7436-4961-4caf-a4a6-0f4b2d36b011",
   "metadata": {},
   "source": [
    "Gráficos a plotar:\n",
    "    - $E(T)$ $\\rightarrow$ $T_{melting} $ e  $V(T)$ $\\rightarrow$ $\\gamma \\rightarrow \\alpha$\n",
    "    \n",
    "O gráfico $E(T)$ vai utilizar a energia média desde que o sistema esteja termalizado, vide $ E \\times MD $, e então terá 15 pontos de energia e temperatura"
   ]
  },
  {
   "cell_type": "code",
   "execution_count": 12,
   "id": "b726bc5b-ac7d-4529-8733-eea81e7bb347",
   "metadata": {},
   "outputs": [],
   "source": [
    "def plot_results(data_frames : list, plot : str): \n",
    "    index = 0\n",
    "    temperaturas_medias = []\n",
    "    erros_temperaturas = []\n",
    "\n",
    "    if plot == \"Energia e Temperatura\":\n",
    "        print(\"oi\")\n",
    "        plt.figure(figsize=(10,3))\n",
    "        plt.title(\"Energia x Temperatura - BaO\")\n",
    "        plt.xlabel('Temperatura $(K)$')\n",
    "        plt.ylabel('Energia')\n",
    "        plt.grid(color='grey')\n",
    "        plt.xticks(Temperaturas)\n",
    "\n",
    "    \n",
    "\n",
    "    elif plot == \"Volume e Temperatura\":\n",
    "        print(\"Volume versus Temperatura\")\n",
    "        \n",
    "    elif plot == \"Energia e MD\":\n",
    "        print(\"Energia versus Passos\")"
   ]
  },
  {
   "cell_type": "code",
   "execution_count": 16,
   "id": "2df0cc5e-7f21-43c0-9c21-a40aa647237a",
   "metadata": {},
   "outputs": [
    {
     "name": "stdout",
     "output_type": "stream",
     "text": [
      "Energia versus Passos\n"
     ]
    }
   ],
   "source": [
    "plot_results(data_frames =[1,2], plot=\"Energia e MD\" )"
   ]
  },
  {
   "cell_type": "code",
   "execution_count": null,
   "id": "440bc089-f979-49e5-b300-55e45a0927a7",
   "metadata": {},
   "outputs": [],
   "source": [
    "for index, data_frame in enumerate(data_frames):\n",
    "    #print(data_frame[data_frame.columns[4]])\n",
    "    #plt.plot(data_frame[data_frame.columns[4]], data_frame[data_frame.columns[1]])\n",
    "    \n",
    "    #E_T.append( [ data_frame[data_frame.columns[4]] , data_frame[data_frame.columns[1]] ] )\n",
    "    # últimos passos\n",
    "    E_T.append( [ data_frame[data_frame.columns[4]][3960:]  , data_frame[data_frame.columns[1]][3960:] ] )\n",
    "    E_MD.append( [ data_frame[data_frame.columns[4]][:]  , data_frame[data_frame.columns[0]][:] ] )\n",
    "    \n",
    "    #E_MD.append( [ data_frame[data_frame.columns[4]][3960:]  , data_frame[data_frame.columns[0]][3960:] ] )\n",
    "    \n",
    "    #E_MD.append( [ data_frame[data_frame.columns[4]][:]  , data_frame[data_frame.columns[0]][:] ] )\n",
    "    \n",
    "    \n",
    "    #print(index)"
   ]
  }
 ],
 "metadata": {
  "kernelspec": {
   "display_name": "Python 3 (ipykernel)",
   "language": "python",
   "name": "python3"
  },
  "language_info": {
   "codemirror_mode": {
    "name": "ipython",
    "version": 3
   },
   "file_extension": ".py",
   "mimetype": "text/x-python",
   "name": "python",
   "nbconvert_exporter": "python",
   "pygments_lexer": "ipython3",
   "version": "3.10.9"
  }
 },
 "nbformat": 4,
 "nbformat_minor": 5
}
